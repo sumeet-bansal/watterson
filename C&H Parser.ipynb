{
 "cells": [
  {
   "cell_type": "code",
   "execution_count": 1,
   "metadata": {},
   "outputs": [],
   "source": [
    "import urllib.request\n",
    "from bs4 import BeautifulSoup\n",
    "from collections import defaultdict\n",
    "import datetime\n",
    "import json\n",
    "\n",
    "BLANK_SEARCH_PAGE = 'https://michaelyingling.com/random/calvin_and_hobbes/search.php?phrase='\n",
    "OUT_FILE = 'complete_calvin_and_hobbes.json'"
   ]
  },
  {
   "cell_type": "code",
   "execution_count": 2,
   "metadata": {},
   "outputs": [],
   "source": [
    "page = urllib.request.urlopen(BLANK_SEARCH_PAGE)\n",
    "soup = BeautifulSoup(page, 'html.parser')\n",
    "strips = soup.find_all('fieldset')"
   ]
  },
  {
   "cell_type": "code",
   "execution_count": 3,
   "metadata": {},
   "outputs": [
    {
     "data": {
      "text/plain": [
       "{'date': '18 NOV 1985',\n",
       " 'script': \"So long Pop! I'm off to check my tiger trap! I rigged a tuna fish sandwich yesterday, so I'm sure to have a tiger by now! They like tuna fish, huh? Tigers will do anything for a tuna fish sandwich. We're kind of stupid that way.  Munch Munch\",\n",
       " 'description': \"Calvin is off to check his tiger trap. Since Calvin baited it with a tuna fish sandwich, he's sure he'll have caught a tiger. Calvin tells his Dad that tigers will do anything for tuna fish. Hobbes, hanging by his foot in the trap, says tigers are kind of stupid that way. \",\n",
       " 'link': 'http://www.gocomics.com/calvinandhobbes/1985/11/18',\n",
       " 'appears_in': [{'title': 'Calvin and Hobbes',\n",
       "   'link': 'http://www.amazon.com/gp/product/0836220889',\n",
       "   'cover': 'calvin_and_hobbes.jpg'},\n",
       "  {'title': 'Something Under the Bed is Drooling',\n",
       "   'link': 'http://www.amazon.com/gp/product/0836218256',\n",
       "   'cover': 'something_under_the_bed_is_drooling.jpg'},\n",
       "  {'title': 'The Essential Calvin and Hobbes',\n",
       "   'link': 'http://www.amazon.com/gp/product/0836218051',\n",
       "   'cover': 'the_essential_calvin_and_hobbes.jpg'},\n",
       "  {'title': 'The Complete Calvin and Hobbes',\n",
       "   'link': 'http://www.amazon.com/gp/product/0740748475',\n",
       "   'cover': 'the_complete_calvin_and_hobbes.jpg'}]}"
      ]
     },
     "execution_count": 3,
     "metadata": {},
     "output_type": "execute_result"
    }
   ],
   "source": [
    "def parse_appears_in(appears_in):\n",
    "    f = lambda a: {\n",
    "        'title': a.img.get('title'),\n",
    "        'link': a.get('href').split('?')[0],\n",
    "        'cover': a.img.get('src').split('/')[-1]\n",
    "    }\n",
    "    return list(map(f, appears_in))\n",
    "\n",
    "def parse_strip(strip):\n",
    "    date = strip.strong.string\n",
    "    script = strip.find('div', class_='quote').string\n",
    "    description = strip.find('div', class_='description').string\n",
    "    link = strip.a.get('href')\n",
    "    appears_in = parse_appears_in(strip.find('div', class_='books').find_all('a'))\n",
    "    return {\n",
    "        'date': date,\n",
    "        'script': script,\n",
    "        'description': description,\n",
    "        'link': link,\n",
    "        'appears_in': appears_in\n",
    "    }\n",
    "\n",
    "parse_strip(strips[0])"
   ]
  },
  {
   "cell_type": "code",
   "execution_count": 4,
   "metadata": {},
   "outputs": [],
   "source": [
    "parsed_strips = list(map(parse_strip, strips))"
   ]
  },
  {
   "cell_type": "code",
   "execution_count": 5,
   "metadata": {},
   "outputs": [
    {
     "data": {
      "text/plain": [
       "{'-8215720599231991787': {'title': 'Calvin and Hobbes',\n",
       "  'link': 'http://www.amazon.com/gp/product/0836220889',\n",
       "  'cover': 'calvin_and_hobbes.jpg'},\n",
       " '-8380923391474116146': {'title': 'Something Under the Bed is Drooling',\n",
       "  'link': 'http://www.amazon.com/gp/product/0836218256',\n",
       "  'cover': 'something_under_the_bed_is_drooling.jpg'},\n",
       " '-4222594290859131387': {'title': 'The Essential Calvin and Hobbes',\n",
       "  'link': 'http://www.amazon.com/gp/product/0836218051',\n",
       "  'cover': 'the_essential_calvin_and_hobbes.jpg'},\n",
       " '-2430226368731180244': {'title': 'The Complete Calvin and Hobbes',\n",
       "  'link': 'http://www.amazon.com/gp/product/0740748475',\n",
       "  'cover': 'the_complete_calvin_and_hobbes.jpg'},\n",
       " '2134887979636986130': {'title': 'Yukon Ho!',\n",
       "  'link': 'http://www.amazon.com/gp/product/0836218353',\n",
       "  'cover': 'yukon_ho.jpg'},\n",
       " '7213657484768236466': {'title': 'The Authoritative Calvin and Hobbes',\n",
       "  'link': 'http://www.amazon.com/gp/product/0836218221',\n",
       "  'cover': 'the_authoritative_calvin_and_hobbes.jpg'},\n",
       " '-3847512541162550905': {'title': 'Weirdos from Another Planet!',\n",
       "  'link': 'http://www.amazon.com/gp/product/0836218620',\n",
       "  'cover': 'weirdos_from_another_planet.jpg'},\n",
       " '-7985933074088233251': {'title': 'The Revenge of the Baby-Sat',\n",
       "  'link': 'http://www.amazon.com/gp/product/0836218663',\n",
       "  'cover': 'the_revenge_of_the_babysat.jpg'},\n",
       " '6685130618433757581': {'title': 'The Indispensable Calvin And Hobbes',\n",
       "  'link': 'http://www.amazon.com/gp/product/0836218981',\n",
       "  'cover': 'the_indispensable_calvin_and_hobbes.jpg'},\n",
       " '3516409811797879854': {'title': 'Scientific Progress Goes \\\\',\n",
       "  'link': 'http://www.amazon.com/gp/product/0836218787',\n",
       "  'cover': 'scientific_progress_goes_boink.jpg'},\n",
       " '840673878015819894': {'title': 'Attack of the Deranged Mutant Killer Monster Snow Goons',\n",
       "  'link': 'http://www.amazon.com/gp/product/0836218833',\n",
       "  'cover': 'attack_of_the_deranged_mutant_killer_monster_snow_goons.jpg'},\n",
       " '-7303535250106704812': {'title': 'The Days are Just Packed',\n",
       "  'link': 'http://www.amazon.com/gp/product/0836217357',\n",
       "  'cover': 'the_days_are_just_packed.jpg'},\n",
       " '8409698140017940182': {'title': 'Homicidal Psycho Jungle Cat',\n",
       "  'link': 'http://www.amazon.com/gp/product/0836217691',\n",
       "  'cover': 'homicidal_psycho_jungle_cat.jpg'},\n",
       " '8740635397638636799': {'title': 'There\\\\',\n",
       "  'link': 'http://www.amazon.com/gp/product/0836213122',\n",
       "  'cover': 'theres_treasure_everywhere.jpg'},\n",
       " '4448801267296310207': {'title': 'It\\\\',\n",
       "  'link': 'http://www.amazon.com/gp/product/0836221362',\n",
       "  'cover': 'its_a_magical_world.jpg'}}"
      ]
     },
     "execution_count": 5,
     "metadata": {},
     "output_type": "execute_result"
    }
   ],
   "source": [
    "books = defaultdict(dict)\n",
    "\n",
    "for ps in parsed_strips:\n",
    "    appears_in = ps['appears_in']\n",
    "    for book in appears_in:\n",
    "        title = book['title']\n",
    "        title_hash = str(hash(title))\n",
    "        books[title_hash]['title'] = title\n",
    "        books[title_hash]['link'] = book['link']\n",
    "        books[title_hash]['cover'] = book['cover']\n",
    "\n",
    "# some book titles are cut off because of mishandled escape characters\n",
    "dict(books)"
   ]
  },
  {
   "cell_type": "code",
   "execution_count": 6,
   "metadata": {},
   "outputs": [],
   "source": [
    "# manually correct book titles\n",
    "books['3567743571950606685']['title'] = 'Scientific Progress Goes \"Boink\"'\n",
    "books['-5738608721331140368']['title'] = 'There\\'s Treasure Everywhere'\n",
    "books['-2654582596097140220']['title'] = 'It\\'s a Magical World'"
   ]
  },
  {
   "cell_type": "code",
   "execution_count": 7,
   "metadata": {},
   "outputs": [
    {
     "data": {
      "text/plain": [
       "{'-8215720599231991787': {'title': 'Calvin and Hobbes',\n",
       "  'link': 'http://www.amazon.com/gp/product/0836220889',\n",
       "  'cover': 'calvin_and_hobbes.jpg'},\n",
       " '-8380923391474116146': {'title': 'Something Under the Bed is Drooling',\n",
       "  'link': 'http://www.amazon.com/gp/product/0836218256',\n",
       "  'cover': 'something_under_the_bed_is_drooling.jpg'},\n",
       " '-4222594290859131387': {'title': 'The Essential Calvin and Hobbes',\n",
       "  'link': 'http://www.amazon.com/gp/product/0836218051',\n",
       "  'cover': 'the_essential_calvin_and_hobbes.jpg'},\n",
       " '-2430226368731180244': {'title': 'The Complete Calvin and Hobbes',\n",
       "  'link': 'http://www.amazon.com/gp/product/0740748475',\n",
       "  'cover': 'the_complete_calvin_and_hobbes.jpg'},\n",
       " '2134887979636986130': {'title': 'Yukon Ho!',\n",
       "  'link': 'http://www.amazon.com/gp/product/0836218353',\n",
       "  'cover': 'yukon_ho.jpg'},\n",
       " '7213657484768236466': {'title': 'The Authoritative Calvin and Hobbes',\n",
       "  'link': 'http://www.amazon.com/gp/product/0836218221',\n",
       "  'cover': 'the_authoritative_calvin_and_hobbes.jpg'},\n",
       " '-3847512541162550905': {'title': 'Weirdos from Another Planet!',\n",
       "  'link': 'http://www.amazon.com/gp/product/0836218620',\n",
       "  'cover': 'weirdos_from_another_planet.jpg'},\n",
       " '-7985933074088233251': {'title': 'The Revenge of the Baby-Sat',\n",
       "  'link': 'http://www.amazon.com/gp/product/0836218663',\n",
       "  'cover': 'the_revenge_of_the_babysat.jpg'},\n",
       " '6685130618433757581': {'title': 'The Indispensable Calvin And Hobbes',\n",
       "  'link': 'http://www.amazon.com/gp/product/0836218981',\n",
       "  'cover': 'the_indispensable_calvin_and_hobbes.jpg'},\n",
       " '3516409811797879854': {'title': 'Scientific Progress Goes \\\\',\n",
       "  'link': 'http://www.amazon.com/gp/product/0836218787',\n",
       "  'cover': 'scientific_progress_goes_boink.jpg'},\n",
       " '840673878015819894': {'title': 'Attack of the Deranged Mutant Killer Monster Snow Goons',\n",
       "  'link': 'http://www.amazon.com/gp/product/0836218833',\n",
       "  'cover': 'attack_of_the_deranged_mutant_killer_monster_snow_goons.jpg'},\n",
       " '-7303535250106704812': {'title': 'The Days are Just Packed',\n",
       "  'link': 'http://www.amazon.com/gp/product/0836217357',\n",
       "  'cover': 'the_days_are_just_packed.jpg'},\n",
       " '8409698140017940182': {'title': 'Homicidal Psycho Jungle Cat',\n",
       "  'link': 'http://www.amazon.com/gp/product/0836217691',\n",
       "  'cover': 'homicidal_psycho_jungle_cat.jpg'},\n",
       " '8740635397638636799': {'title': 'There\\\\',\n",
       "  'link': 'http://www.amazon.com/gp/product/0836213122',\n",
       "  'cover': 'theres_treasure_everywhere.jpg'},\n",
       " '4448801267296310207': {'title': 'It\\\\',\n",
       "  'link': 'http://www.amazon.com/gp/product/0836221362',\n",
       "  'cover': 'its_a_magical_world.jpg'},\n",
       " '3567743571950606685': {'title': 'Scientific Progress Goes \"Boink\"'},\n",
       " '-5738608721331140368': {'title': \"There's Treasure Everywhere\"},\n",
       " '-2654582596097140220': {'title': \"It's a Magical World\"}}"
      ]
     },
     "execution_count": 7,
     "metadata": {},
     "output_type": "execute_result"
    }
   ],
   "source": [
    "dict(books)"
   ]
  },
  {
   "cell_type": "code",
   "execution_count": 8,
   "metadata": {},
   "outputs": [],
   "source": [
    "for ps in parsed_strips:\n",
    "    # convert date to a UTC timestamp for efficient range querying\n",
    "    date_string = ps['date'].replace('JUNE', 'JUN').replace('JULY', 'JUL').replace('SEPT', 'SEP')\n",
    "    date_as_dt = datetime.datetime.strptime(date_string, '%d %b %Y')\n",
    "    timestamp = int(date_as_dt.replace(tzinfo=datetime.timezone.utc).timestamp())\n",
    "    ps['date'] = { 'human_readable': ps['date'], 'timestamp': timestamp }\n",
    "    # re-attach book objects with correct metadata\n",
    "    ps['appears_in'] = list(map(lambda ai: books[str(hash(ai['title']))], ps['appears_in']))"
   ]
  },
  {
   "cell_type": "code",
   "execution_count": 9,
   "metadata": {},
   "outputs": [
    {
     "data": {
      "text/plain": [
       "{'date': {'human_readable': '18 NOV 1985', 'timestamp': 501120000},\n",
       " 'script': \"So long Pop! I'm off to check my tiger trap! I rigged a tuna fish sandwich yesterday, so I'm sure to have a tiger by now! They like tuna fish, huh? Tigers will do anything for a tuna fish sandwich. We're kind of stupid that way.  Munch Munch\",\n",
       " 'description': \"Calvin is off to check his tiger trap. Since Calvin baited it with a tuna fish sandwich, he's sure he'll have caught a tiger. Calvin tells his Dad that tigers will do anything for tuna fish. Hobbes, hanging by his foot in the trap, says tigers are kind of stupid that way. \",\n",
       " 'link': 'http://www.gocomics.com/calvinandhobbes/1985/11/18',\n",
       " 'appears_in': [{'title': 'Calvin and Hobbes',\n",
       "   'link': 'http://www.amazon.com/gp/product/0836220889',\n",
       "   'cover': 'calvin_and_hobbes.jpg'},\n",
       "  {'title': 'Something Under the Bed is Drooling',\n",
       "   'link': 'http://www.amazon.com/gp/product/0836218256',\n",
       "   'cover': 'something_under_the_bed_is_drooling.jpg'},\n",
       "  {'title': 'The Essential Calvin and Hobbes',\n",
       "   'link': 'http://www.amazon.com/gp/product/0836218051',\n",
       "   'cover': 'the_essential_calvin_and_hobbes.jpg'},\n",
       "  {'title': 'The Complete Calvin and Hobbes',\n",
       "   'link': 'http://www.amazon.com/gp/product/0740748475',\n",
       "   'cover': 'the_complete_calvin_and_hobbes.jpg'}]}"
      ]
     },
     "execution_count": 9,
     "metadata": {},
     "output_type": "execute_result"
    }
   ],
   "source": [
    "'''\n",
    "{\n",
    "  date: {\n",
    "    human_readable: human readable date string\n",
    "    timestamp: UTC timestamp, number of seconds since start of epoch\n",
    "  }\n",
    "  script: dialogue in strip\n",
    "  description: description of strip\n",
    "  link: GoComics link to strip\n",
    "  appears_in: [\n",
    "    {\n",
    "      'title': title of C&H collection the strip appears in\n",
    "      'link': link to Amazon item\n",
    "      'cover': cover image filename\n",
    "    }\n",
    "  ]\n",
    "}\n",
    "'''\n",
    "\n",
    "parsed_strips[0]"
   ]
  },
  {
   "cell_type": "code",
   "execution_count": 10,
   "metadata": {},
   "outputs": [],
   "source": [
    "with open(OUT_FILE, 'w') as outfile:\n",
    "    json.dump(parsed_strips, outfile)"
   ]
  }
 ],
 "metadata": {
  "kernelspec": {
   "display_name": "Python 3",
   "language": "python",
   "name": "python3"
  },
  "language_info": {
   "codemirror_mode": {
    "name": "ipython",
    "version": 3
   },
   "file_extension": ".py",
   "mimetype": "text/x-python",
   "name": "python",
   "nbconvert_exporter": "python",
   "pygments_lexer": "ipython3",
   "version": "3.7.4"
  }
 },
 "nbformat": 4,
 "nbformat_minor": 2
}
